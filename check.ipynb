{
 "cells": [
  {
   "cell_type": "code",
   "execution_count": null,
   "id": "3b649394",
   "metadata": {},
   "outputs": [
    {
     "name": "stdout",
     "output_type": "stream",
     "text": [
      "📂 Folder: c:\\Users\\ADMIN\\realtime_dispatch_monitoring\n",
      "📄 .env\n",
      "📄 README.md\n",
      "📄 app.py\n",
      "📁 backend/\n",
      "   └── 📁 core/\n",
      "   └──    └── 📁 __pycache__/\n",
      "   └──    └──    └── 📄 api_routes.cpython-312.pyc\n",
      "   └──    └──    └── 📄 config.cpython-312.pyc\n",
      "   └──    └──    └── 📄 feedback_manager.cpython-312.pyc\n",
      "   └──    └──    └── 📄 video_processor.cpython-312.pyc\n",
      "   └──    └── 📄 api_routes.py\n",
      "   └──    └── 📄 config.py\n",
      "   └──    └── 📄 feedback_manager.py\n",
      "   └──    └── 📄 video_processor.py\n",
      "   └── 📄 feedback.db\n",
      "   └── 📁 templates/\n",
      "   └──    └── 📄 feedback.html\n",
      "   └──    └── 📄 index.html\n",
      "📄 check.ipynb\n",
      "📁 models/\n",
      "   └── 📄 classification_model_yolov8s-cls_best_100_gpu_28062025.pt\n",
      "   └── 📄 detection_model_yolov8s_best_100_gpu_27062025.pt\n",
      "📄 requirements.txt\n",
      "📁 scripts/\n",
      "   └── 📄 config.py\n",
      "   └── 📄 predictor.py\n",
      "   └── 📄 run_predict_save.py\n",
      "   └── 📄 video_saver.py\n",
      "📁 train_model/\n",
      "   └── 📄 dispatch-monitoring-system.ipynb\n",
      "📁 videos/\n",
      "   └── 📄 1473_CH05_20250501133703_154216.mp4\n"
     ]
    },
    {
     "ename": "",
     "evalue": "",
     "output_type": "error",
     "traceback": [
      "\u001b[1;31mThe Kernel crashed while executing code in the current cell or a previous cell. \n",
      "\u001b[1;31mPlease review the code in the cell(s) to identify a possible cause of the failure. \n",
      "\u001b[1;31mClick <a href='https://aka.ms/vscodeJupyterKernelCrash'>here</a> for more info. \n",
      "\u001b[1;31mView Jupyter <a href='command:jupyter.viewOutput'>log</a> for further details."
     ]
    }
   ],
   "source": [
    "import os\n",
    "\n",
    "def print_directory_tree(root_dir, indent=\"\"):\n",
    "    for item in sorted(os.listdir(root_dir)):\n",
    "        path = os.path.join(root_dir, item)\n",
    "        if os.path.isdir(path):\n",
    "            print(f\"{indent}📁 {item}/\")\n",
    "            print_directory_tree(path, indent + \"   └── \")\n",
    "        else:\n",
    "            print(f\"{indent}📄 {item}\")\n",
    "\n",
    "if __name__ == \"__main__\":\n",
    "    # 📌 Thay đổi đường dẫn này nếu cần kiểm tra folder khác\n",
    "    root_path = os.path.abspath(\".\")\n",
    "\n",
    "    print(f\"📂 Folder: {root_path}\")\n",
    "    print_directory_tree(root_path)\n"
   ]
  },
  {
   "cell_type": "code",
   "execution_count": null,
   "id": "d09f1e26",
   "metadata": {},
   "outputs": [],
   "source": []
  }
 ],
 "metadata": {
  "kernelspec": {
   "display_name": "base",
   "language": "python",
   "name": "python3"
  },
  "language_info": {
   "codemirror_mode": {
    "name": "ipython",
    "version": 3
   },
   "file_extension": ".py",
   "mimetype": "text/x-python",
   "name": "python",
   "nbconvert_exporter": "python",
   "pygments_lexer": "ipython3",
   "version": "3.12.3"
  }
 },
 "nbformat": 4,
 "nbformat_minor": 5
}
